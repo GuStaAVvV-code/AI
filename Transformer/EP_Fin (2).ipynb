{
  "nbformat": 4,
  "nbformat_minor": 0,
  "metadata": {
    "colab": {
      "provenance": [],
      "gpuType": "T4"
    },
    "kernelspec": {
      "name": "python3",
      "display_name": "Python 3"
    },
    "language_info": {
      "name": "python"
    },
    "accelerator": "GPU"
  },
  "cells": [
    {
      "cell_type": "code",
      "execution_count": null,
      "metadata": {
        "colab": {
          "base_uri": "https://localhost:8080/"
        },
        "id": "dteRl_8c_bYD",
        "outputId": "e8ad0359-bf71-44a6-f00c-f984389624fd"
      },
      "outputs": [
        {
          "output_type": "stream",
          "name": "stdout",
          "text": [
            "Mounted at /content/drive\n"
          ]
        }
      ],
      "source": [
        "from google.colab import drive\n",
        "import scipy.io\n",
        "import numpy as np\n",
        "import torch\n",
        "from torch.utils.data import Dataset, DataLoader\n",
        "\n",
        "# Mount Google Drive\n",
        "drive.mount('/content/drive')\n",
        "\n",
        "# Load data\n",
        "x_train_path = \"/content/drive/My Drive/x_train_Rician_CSCG_K10dB_60000_M8_N32_5dB (2).mat\"\n",
        "y_train_path = \"/content/drive/My Drive/y_train_Rician_CSCG_K10dB_60000_M8_N32_5dB (1).mat\"\n",
        "\n",
        "x_train_data = scipy.io.loadmat(x_train_path)\n",
        "y_train_data = scipy.io.loadmat(y_train_path)\n",
        "\n",
        "A = x_train_data[\"x_train\"]  # shape: (60000, 8, 33, 2)\n",
        "H = y_train_data[\"y_train\"]  # shape: (60000, 8, 33, 2)\n",
        "\n",
        "# Convert to complex NumPy array\n",
        "A_complex = A[..., 0] + 1j * A[..., 1]\n",
        "H_complex = H[..., 0] + 1j * H[..., 1]\n",
        "\n",
        "# Split into real and imaginary parts, convert to PyTorch tensors\n",
        "A_real = torch.tensor(A_complex.real, dtype=torch.float32)\n",
        "A_imag = torch.tensor(A_complex.imag, dtype=torch.float32)\n",
        "H_real = torch.tensor(H_complex.real, dtype=torch.float32)\n",
        "H_imag = torch.tensor(H_complex.imag, dtype=torch.float32)\n",
        "\n",
        "# Concatenate real and imag parts along the last dimension\n",
        "A_tensor = torch.cat([A_real, A_imag], dim=-1)  # shape: (60000, 8, 66)\n",
        "H_tensor = torch.cat([H_real, H_imag], dim=-1)  # shape: (60000, 8, 66)"
      ]
    },
    {
      "cell_type": "code",
      "source": [
        "class ChannelDataset(Dataset):\n",
        "    def __init__(self, A, H):\n",
        "        self.A = A\n",
        "        self.H = H\n",
        "\n",
        "    def __len__(self):\n",
        "        return len(self.A)\n",
        "\n",
        "    def __getitem__(self, idx):\n",
        "        return self.A[idx], self.H[idx]\n",
        "\n",
        "batch_size = 64\n",
        "dataset = ChannelDataset(A_tensor, H_tensor)\n",
        "train_loader = DataLoader(dataset, batch_size=batch_size, shuffle=True)\n"
      ],
      "metadata": {
        "id": "Q18jg67I_fcy"
      },
      "execution_count": null,
      "outputs": []
    },
    {
      "cell_type": "code",
      "source": [
        "import torch.nn as nn\n",
        "import torch.nn.functional as F\n",
        "\n",
        "class MultiHeadAttention(nn.Module):\n",
        "    def __init__(self, d_model, num_heads):\n",
        "        super().__init__()\n",
        "        self.attn = nn.MultiheadAttention(d_model, num_heads, batch_first=True)\n",
        "\n",
        "    def forward(self, q, k, v):\n",
        "        out, _ = self.attn(q, k, v)\n",
        "        return out\n",
        "\n",
        "class DistillationBlock(nn.Module):\n",
        "    def __init__(self, d_model):\n",
        "        super().__init__()\n",
        "        self.pool = nn.MaxPool1d(kernel_size=2, stride=2)\n",
        "\n",
        "    def forward(self, x):\n",
        "        x = x.transpose(1, 2)  # B x d_model x seq\n",
        "        x = self.pool(x).transpose(1, 2)  # B x new_seq x d_model\n",
        "        return x\n",
        "\n",
        "class Encoder(nn.Module):\n",
        "    def __init__(self, d_model, num_heads, num_layers):\n",
        "        super().__init__()\n",
        "        self.layers = nn.ModuleList([\n",
        "            nn.Sequential(\n",
        "                MultiHeadAttention(d_model, num_heads),\n",
        "                nn.LayerNorm(d_model),\n",
        "                DistillationBlock(d_model)\n",
        "            )\n",
        "            for _ in range(num_layers)\n",
        "        ])\n",
        "\n",
        "    def forward(self, x):\n",
        "        for mha, norm, distill in self.layers:\n",
        "            x = norm(mha(x, x, x) + x)\n",
        "            x = distill(x)\n",
        "        return x\n",
        "\n",
        "class Decoder(nn.Module):\n",
        "    def __init__(self, d_model, num_heads, num_layers):\n",
        "        super().__init__()\n",
        "        self.layers = nn.ModuleList([\n",
        "            nn.ModuleDict({\n",
        "                'self_attn': MultiHeadAttention(d_model, num_heads),\n",
        "                'cross_attn': MultiHeadAttention(d_model, num_heads),\n",
        "                'norm1': nn.LayerNorm(d_model),\n",
        "                'norm2': nn.LayerNorm(d_model),\n",
        "            })\n",
        "            for _ in range(num_layers)\n",
        "        ])\n",
        "        self.output_layer = nn.Linear(d_model, d_model)\n",
        "\n",
        "    def forward(self, x, enc_out):\n",
        "        for layer in self.layers:\n",
        "            x = layer['norm1'](layer['self_attn'](x, x, x) + x)\n",
        "            x = layer['norm2'](layer['cross_attn'](x, enc_out, enc_out) + x)\n",
        "        return self.output_layer(x)\n",
        "\n",
        "class EPformer(nn.Module):\n",
        "    def __init__(self, input_dim, d_model=64, num_heads=4, num_layers=2):\n",
        "        super().__init__()\n",
        "        self.input_proj = nn.Linear(input_dim, d_model)\n",
        "        self.encoder = Encoder(d_model, num_heads, num_layers)\n",
        "        self.decoder = Decoder(d_model, num_heads, num_layers)\n",
        "        self.output_proj = nn.Linear(d_model, input_dim)\n",
        "\n",
        "    def forward(self, x):\n",
        "        x = self.input_proj(x)\n",
        "        enc_out = self.encoder(x)\n",
        "        dec_input = F.avg_pool1d(x.transpose(1, 2), kernel_size=2, stride=2).transpose(1, 2)\n",
        "        dec_out = self.decoder(dec_input, enc_out)\n",
        "        return self.output_proj(dec_out)\n"
      ],
      "metadata": {
        "id": "c36ZBH-i_gIC"
      },
      "execution_count": null,
      "outputs": []
    },
    {
      "cell_type": "code",
      "source": [
        "device = torch.device(\"cuda\" if torch.cuda.is_available() else \"cpu\")\n",
        "model = EPformer(input_dim=66).to(device)\n",
        "\n",
        "def nmse_loss(pred, target):\n",
        "    return torch.mean(torch.norm(pred - target, dim=-1)**2 / torch.norm(target, dim=-1)**2)\n",
        "\n",
        "optimizer = torch.optim.Adam(model.parameters(), lr=0.001)\n",
        "\n",
        "# Training\n",
        "import matplotlib.pyplot as plt\n",
        "\n",
        "num_epochs = 30\n",
        "epoch_losses = []\n",
        "\n",
        "for epoch in range(num_epochs):\n",
        "    model.train()\n",
        "    total_loss = 0\n",
        "\n",
        "    for A_batch, H_batch in train_loader:\n",
        "        A_batch, H_batch = A_batch.to(device), H_batch.to(device)\n",
        "        optimizer.zero_grad()\n",
        "        H_pred = model(A_batch)\n",
        "\n",
        "        # Match decoder output shape\n",
        "        if H_pred.shape[1] != H_batch.shape[1]:\n",
        "            H_batch = H_batch[:, :H_pred.shape[1], :]\n",
        "\n",
        "        loss = nmse_loss(H_pred, H_batch)\n",
        "        loss.backward()\n",
        "        optimizer.step()\n",
        "        total_loss += loss.item()\n",
        "\n",
        "    avg_loss = total_loss / len(train_loader)\n",
        "    epoch_losses.append(avg_loss)\n",
        "    print(f\"Epoch {epoch+1}/{num_epochs}, Loss: {avg_loss:.6f}\")\n",
        "\n",
        "# Plot loss curve\n",
        "plt.plot(epoch_losses, marker='o')\n",
        "plt.title(\"Training Loss (NMSE)\")\n",
        "plt.xlabel(\"Epoch\")\n",
        "plt.ylabel(\"Loss\")\n",
        "plt.grid(True)\n",
        "plt.show()\n"
      ],
      "metadata": {
        "id": "sIos0BY8_hjS",
        "colab": {
          "base_uri": "https://localhost:8080/",
          "height": 993
        },
        "outputId": "f379c056-4b22-42a6-cbc3-2c710ddac02f"
      },
      "execution_count": null,
      "outputs": [
        {
          "output_type": "stream",
          "name": "stdout",
          "text": [
            "Epoch 1/30, Loss: 0.524470\n",
            "Epoch 2/30, Loss: 0.256622\n",
            "Epoch 3/30, Loss: 0.230084\n",
            "Epoch 4/30, Loss: 0.225684\n",
            "Epoch 5/30, Loss: 0.211542\n",
            "Epoch 6/30, Loss: 0.209164\n",
            "Epoch 7/30, Loss: 0.207916\n",
            "Epoch 8/30, Loss: 0.207000\n",
            "Epoch 9/30, Loss: 0.206247\n",
            "Epoch 10/30, Loss: 0.205613\n",
            "Epoch 11/30, Loss: 0.205152\n",
            "Epoch 12/30, Loss: 0.204713\n",
            "Epoch 13/30, Loss: 0.204238\n",
            "Epoch 14/30, Loss: 0.203891\n",
            "Epoch 15/30, Loss: 0.203614\n",
            "Epoch 16/30, Loss: 0.203286\n",
            "Epoch 17/30, Loss: 0.203033\n",
            "Epoch 18/30, Loss: 0.202755\n",
            "Epoch 19/30, Loss: 0.202564\n",
            "Epoch 20/30, Loss: 0.202304\n",
            "Epoch 21/30, Loss: 0.202175\n",
            "Epoch 22/30, Loss: 0.202018\n",
            "Epoch 23/30, Loss: 0.201794\n",
            "Epoch 24/30, Loss: 0.201626\n",
            "Epoch 25/30, Loss: 0.201504\n",
            "Epoch 26/30, Loss: 0.201358\n",
            "Epoch 27/30, Loss: 0.201287\n",
            "Epoch 28/30, Loss: 0.201151\n",
            "Epoch 29/30, Loss: 0.201019\n",
            "Epoch 30/30, Loss: 0.200928\n"
          ]
        },
        {
          "output_type": "display_data",
          "data": {
            "text/plain": [
              "<Figure size 640x480 with 1 Axes>"
            ],
            "image/png": "[encoded data removed]"
          },
          "metadata": {}
        }
      ]
    },
    {
      "cell_type": "code",
      "source": [
        "def compute_mmse_estimate(A_tensor, H_tensor):\n",
        "    A_flat = A_tensor.reshape(-1, A_tensor.shape[-1])  # (N*L, 66)\n",
        "    H_flat = H_tensor.reshape(-1, H_tensor.shape[-1])\n",
        "\n",
        "    A_mean = A_flat.mean(dim=0, keepdim=True)\n",
        "    H_mean = H_flat.mean(dim=0, keepdim=True)\n",
        "\n",
        "    A_centered = A_flat - A_mean\n",
        "    H_centered = H_flat - H_mean\n",
        "\n",
        "    R_AA = A_centered.T @ A_centered / A_centered.shape[0]\n",
        "    R_HA = H_centered.T @ A_centered / A_centered.shape[0]\n",
        "\n",
        "    R_AA_inv = torch.linalg.pinv(R_AA)\n",
        "    W_mmse = R_HA @ R_AA_inv\n",
        "\n",
        "    H_est = (W_mmse @ (A_flat - A_mean).T).T + H_mean\n",
        "    return H_est.reshape(H_tensor.shape)\n",
        "\n",
        "with torch.no_grad():\n",
        "    H_mmse_pred = compute_mmse_estimate(A_tensor, H_tensor)\n",
        "    mmse_loss = nmse_loss(H_mmse_pred.to(device), H_tensor.to(device))\n",
        "    print(f\"MMSE NMSE Loss: {mmse_loss.item():.6f}\")\n"
      ],
      "metadata": {
        "id": "IzUh3LgA_i-i",
        "colab": {
          "base_uri": "https://localhost:8080/"
        },
        "outputId": "de40a949-36bd-4287-eaae-ffc735f152d4"
      },
      "execution_count": null,
      "outputs": [
        {
          "output_type": "stream",
          "name": "stdout",
          "text": [
            "MMSE NMSE Loss: 0.244454\n"
          ]
        }
      ]
    }
  ]
}